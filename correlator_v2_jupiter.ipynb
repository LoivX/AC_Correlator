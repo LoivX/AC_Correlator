{
 "cells": [
  {
   "cell_type": "code",
   "execution_count": 6,
   "metadata": {},
   "outputs": [],
   "source": [
    "import sys\n",
    "sys.path.append(r\"d:\\Università\\terzo anno\\Tesi\\astrocook\")\n",
    "from astrocook.functions import lines_voigt, convolve_simple\n",
    "from astrocook import vars\n",
    "from astropy.table import Table\n",
    "import numpy as np\n",
    "import scipy.signal as sps\n",
    "from scipy.interpolate import interp1d\n",
    "from tqdm import tqdm\n"
   ]
  },
  {
   "cell_type": "code",
   "execution_count": 31,
   "metadata": {},
   "outputs": [],
   "source": [
    "\n",
    "##FUNCTIONS##\n",
    "\n",
    "# Get indices function\n",
    "def get_indicies(spec_chunk, flux, threshold, i, ion, z):\n",
    "    if i == 0:\n",
    "        ion_components = {key: value for key, value in vars.xem_d.items() if ion in key}\n",
    "        c1 = float(ion_components[list(ion_components.items())[0][0]].value)\n",
    "        c2 = float(ion_components[list(ion_components.items())[1][0]].value)\n",
    "        mask = ((spec_chunk['wavelength'] > c1 *(1+z)) & (spec_chunk['wavelength'] < c2*(1+z))) | (flux < 1- threshold)\n",
    "\n",
    "        indicies = np.where(mask)[0]\n",
    "    else:\n",
    "        indicies = np.where((flux < 1- threshold))[0]\n",
    "    \n",
    "    count = len(indicies)\n",
    "        \n",
    "    return indicies, count\n"
   ]
  },
  {
   "cell_type": "code",
   "execution_count": 32,
   "metadata": {},
   "outputs": [],
   "source": [
    "\n",
    "# Function to convert bin to redshift\n",
    "def bin_to_z(bin, z_start, dz):\n",
    "    return z_start + bin * dz\n"
   ]
  },
  {
   "cell_type": "code",
   "execution_count": 27,
   "metadata": {},
   "outputs": [],
   "source": [
    "\n",
    "def psf_gauss(x, resol):\n",
    "        if len(x)==0:\n",
    "            return []\n",
    "        c = x[len(x)//2]\n",
    "        sigma = c / resol * 4.246609001e-1\n",
    "\n",
    "        psf = np.exp(-0.5*((x-c) / sigma)**2)\n",
    "        psf = psf[np.where(psf > 1e-6)]\n",
    "        return psf\n"
   ]
  },
  {
   "cell_type": "code",
   "execution_count": 28,
   "metadata": {},
   "outputs": [],
   "source": [
    "spectrum_file = r'D:\\Università\\terzo anno\\Tesi\\AC_Correlator\\test_mos_spec.dat'\n",
    "resol = 45000\n",
    "wav_start = [154.8, 154.8, 155.06]\n",
    "wav_end = [155.1, 154.85, 155.1]\n",
    "logN = 12\n",
    "b = 5\n",
    "btur = 0\n",
    "ion = 'CIV'\n",
    "threshold_value = 0.999\n",
    "dz = 1e-5\n",
    "perc = 75"
   ]
  },
  {
   "cell_type": "code",
   "execution_count": 29,
   "metadata": {},
   "outputs": [],
   "source": [
    "\n",
    "# Load spectrum\n",
    "spectrum = Table.read(spectrum_file, format='ascii')\n",
    "threshold = np.std(spectrum['dy'])\n",
    "\n",
    "spectrum = Table([spectrum['x'], spectrum['y']], names=['wavelength', 'flux'])\n",
    "    \n",
    "# Define models\n",
    "models = [Table(), Table(), Table()]\n",
    "for i in range(len(wav_start)):\n",
    "    x = np.linspace(wav_start[i], wav_end[i], 1000)\n",
    "    y = convolve_simple(lines_voigt(x, 0, logN, b, btur, ion), psf_gauss(x, resol))\n",
    "    models[i] = Table([x, y], names=['wavelength', 'flux'])\n"
   ]
  },
  {
   "cell_type": "code",
   "execution_count": 33,
   "metadata": {},
   "outputs": [
    {
     "name": "stderr",
     "output_type": "stream",
     "text": [
      "Calculating Correlation with model 0: 100%|██████████| 52965/52965 [01:09<00:00, 756.77it/s]\n",
      "Calculating Correlation with model 1: 100%|██████████| 52965/52965 [01:09<00:00, 763.35it/s]\n",
      "Calculating Correlation with model 2: 100%|██████████| 52965/52965 [01:14<00:00, 713.83it/s] \n"
     ]
    }
   ],
   "source": [
    "\n",
    "# Other parameters\n",
    "z_start = spectrum['wavelength'][0] / 154.8 - 1\n",
    "z_end = spectrum['wavelength'][-1] / 155.1 - 1\n",
    "\n",
    "cor_all = [np.array([]), np.array([]), np.array([])]\n",
    "\n",
    "for i, model in enumerate(models):\n",
    "    for z in tqdm(np.arange(z_start, z_end, dz), f\"Calculating Correlation with model {i}\"): \n",
    "        # Defining the interval in which the model is present\n",
    "        interval = [(model['wavelength'].min())*(1+z), (model['wavelength'].max())*(1+z)]    \n",
    "        mask = (spectrum['wavelength'] > interval[0]) & (spectrum['wavelength'] < interval[1])\n",
    "\n",
    "        # Selecting the data interval covered by the model\n",
    "        spec_chunk = spectrum[mask]\n",
    "\n",
    "        # Interpolating the model to the data wavelength\n",
    "        interpolate = interp1d(model['wavelength']*(1 + z), model['flux'], kind='linear')\n",
    "        interpolated_flux = interpolate(spec_chunk['wavelength'])\n",
    "\n",
    "        # Identifying the indices of the model that are below the threshold\n",
    "        indicies, count = get_indicies(spec_chunk, interpolated_flux, threshold, ion, i, z)\n",
    "\n",
    "        cor = np.correlate(interpolated_flux[indicies], spec_chunk['flux'][indicies], mode='valid') / count\n",
    "        cor_all[i] = np.append(cor_all[i], cor)\n",
    "\n",
    "# Percentile-based thresholding\n",
    "p0 = np.percentile(cor_all[0], perc)\n",
    "p1 = np.percentile(cor_all[1], perc)\n",
    "p2 = np.percentile(cor_all[2], perc)\n",
    "\n",
    "cor_final = (p0 - cor_all[0]) * (p1 - cor_all[1]) * (p2 - cor_all[2])\n",
    "z_interval = np.arange(z_start, z_end, dz)\n",
    "\n",
    "# Finding the peaks\n",
    "peaks, properties = sps.find_peaks(cor_final, height=np.mean(cor_final) + np.std(cor_final) * 2.5, prominence=0, width=0.01, distance=5e-4 / dz)\n",
    "peaks_table = Table([bin_to_z(peaks, z_start, dz), properties['peak_heights'], properties['widths'], bin_to_z(properties['left_ips'], z_start, dz), bin_to_z(properties['right_ips'], z_start, dz), properties['width_heights'], properties['prominences']],\n",
    "                    names=['z', 'height', 'fwhm', 'left_z', 'right_z', 'half_max', 'prominence'])\n"
   ]
  },
  {
   "cell_type": "code",
   "execution_count": null,
   "metadata": {},
   "outputs": [],
   "source": []
  },
  {
   "cell_type": "code",
   "execution_count": null,
   "metadata": {},
   "outputs": [],
   "source": []
  }
 ],
 "metadata": {
  "kernelspec": {
   "display_name": "myenv",
   "language": "python",
   "name": "python3"
  },
  "language_info": {
   "codemirror_mode": {
    "name": "ipython",
    "version": 3
   },
   "file_extension": ".py",
   "mimetype": "text/x-python",
   "name": "python",
   "nbconvert_exporter": "python",
   "pygments_lexer": "ipython3",
   "version": "3.12.3"
  }
 },
 "nbformat": 4,
 "nbformat_minor": 2
}
